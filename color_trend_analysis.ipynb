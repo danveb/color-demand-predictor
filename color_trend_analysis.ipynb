{
 "cells": [
  {
   "cell_type": "markdown",
   "id": "8037b43a",
   "metadata": {},
   "source": [
    "# 🧵 Color Trend Analysis\n",
    "\n",
    "This notebook analyzes sales data to uncover color and product type trends. \n",
    "\n",
    "**Note:** This version uses sample sales data `sales_data_sample.csv`. To use real data, replace file with `sales_data.csv` and update code accordingly. "
   ]
  },
  {
   "cell_type": "code",
   "execution_count": 144,
   "id": "f75e91be",
   "metadata": {},
   "outputs": [
    {
     "data": {
      "text/html": [
       "<div>\n",
       "<style scoped>\n",
       "    .dataframe tbody tr th:only-of-type {\n",
       "        vertical-align: middle;\n",
       "    }\n",
       "\n",
       "    .dataframe tbody tr th {\n",
       "        vertical-align: top;\n",
       "    }\n",
       "\n",
       "    .dataframe thead th {\n",
       "        text-align: right;\n",
       "    }\n",
       "</style>\n",
       "<table border=\"1\" class=\"dataframe\">\n",
       "  <thead>\n",
       "    <tr style=\"text-align: right;\">\n",
       "      <th></th>\n",
       "      <th>Date</th>\n",
       "      <th>Product Type</th>\n",
       "      <th>Color</th>\n",
       "      <th>Quantity Sold</th>\n",
       "      <th>Season</th>\n",
       "    </tr>\n",
       "  </thead>\n",
       "  <tbody>\n",
       "    <tr>\n",
       "      <th>0</th>\n",
       "      <td>2023-01-15</td>\n",
       "      <td>jersey alg 30/1</td>\n",
       "      <td>Navy Blue</td>\n",
       "      <td>120</td>\n",
       "      <td>Winter</td>\n",
       "    </tr>\n",
       "    <tr>\n",
       "      <th>1</th>\n",
       "      <td>2023-02-10</td>\n",
       "      <td>bb rib 30/1</td>\n",
       "      <td>Soft Pink</td>\n",
       "      <td>95</td>\n",
       "      <td>Winter</td>\n",
       "    </tr>\n",
       "    <tr>\n",
       "      <th>2</th>\n",
       "      <td>2023-03-12</td>\n",
       "      <td>jersey alg 24/1</td>\n",
       "      <td>Lime Green</td>\n",
       "      <td>40</td>\n",
       "      <td>Spring</td>\n",
       "    </tr>\n",
       "    <tr>\n",
       "      <th>3</th>\n",
       "      <td>2023-04-20</td>\n",
       "      <td>rib liso 24/1</td>\n",
       "      <td>White</td>\n",
       "      <td>60</td>\n",
       "      <td>Spring</td>\n",
       "    </tr>\n",
       "    <tr>\n",
       "      <th>4</th>\n",
       "      <td>2023-05-18</td>\n",
       "      <td>frisa inv. 30/70/12</td>\n",
       "      <td>Coral Red</td>\n",
       "      <td>100</td>\n",
       "      <td>Summer</td>\n",
       "    </tr>\n",
       "  </tbody>\n",
       "</table>\n",
       "</div>"
      ],
      "text/plain": [
       "        Date         Product Type       Color  Quantity Sold  Season\n",
       "0 2023-01-15      jersey alg 30/1   Navy Blue            120  Winter\n",
       "1 2023-02-10          bb rib 30/1   Soft Pink             95  Winter\n",
       "2 2023-03-12      jersey alg 24/1  Lime Green             40  Spring\n",
       "3 2023-04-20        rib liso 24/1       White             60  Spring\n",
       "4 2023-05-18  frisa inv. 30/70/12   Coral Red            100  Summer"
      ]
     },
     "execution_count": 144,
     "metadata": {},
     "output_type": "execute_result"
    }
   ],
   "source": [
    "# import pandas for data handling \n",
    "import pandas as pd \n",
    "\n",
    "# load csv file into a pandas DataFrame, parsing \"Date\" column as datetime \n",
    "df = pd.read_csv(\"sales_data_sample.csv\", parse_dates=[\"Date\"]) \n",
    "\n",
    "# display first 5 rows to check data loaded correctly \n",
    "df.head() "
   ]
  },
  {
   "cell_type": "code",
   "execution_count": 145,
   "id": "164fcbb1",
   "metadata": {},
   "outputs": [
    {
     "name": "stdout",
     "output_type": "stream",
     "text": [
      "\n",
      "Missing values per column:\n",
      " Date             0\n",
      "Product Type     0\n",
      "Color            0\n",
      "Quantity Sold    0\n",
      "Season           0\n",
      "dtype: int64\n",
      "\n",
      "Unique Colors: ['Navy Blue' 'Soft Pink' 'Lime Green' 'White' 'Coral Red' 'Beige' 'Black']\n",
      "\n",
      "Unique Product Types: ['jersey alg 30/1' 'bb rib 30/1' 'jersey alg 24/1' 'rib liso 24/1'\n",
      " 'frisa inv. 30/70/12' 'puño 2*1 alg 24/70' 'frisa inv. 24/70/10'\n",
      " 'bb rib alg poli 30/20' 'bb rib alg poli 36/20']\n",
      "\n",
      "Unique Seasons: ['Winter' 'Spring' 'Summer' 'Fall']\n"
     ]
    }
   ],
   "source": [
    "# check for missing values in the DataFrame \n",
    "print(\"\\nMissing values per column:\\n\", df.isnull().sum())\n",
    "\n",
    "# display unique values in important columns \n",
    "print(\"\\nUnique Colors:\", df[\"Color\"].unique())\n",
    "print(\"\\nUnique Product Types:\", df[\"Product Type\"].unique())\n",
    "print(\"\\nUnique Seasons:\", df[\"Season\"].unique())"
   ]
  },
  {
   "cell_type": "code",
   "execution_count": 146,
   "id": "0bbdf5a4",
   "metadata": {},
   "outputs": [
    {
     "data": {
      "image/png": "[encoded data removed]",
      "text/plain": [
       "<Figure size 1000x500 with 1 Axes>"
      ]
     },
     "metadata": {},
     "output_type": "display_data"
    }
   ],
   "source": [
    "# import plotting libraries \n",
    "import matplotlib.pyplot as plt \n",
    "import seaborn as sns\n",
    "\n",
    "# set seaborn style\n",
    "sns.set(style=\"whitegrid\") \n",
    "\n",
    "# count sales frequency per color \n",
    "color_counts = df[\"Color\"].value_counts() \n",
    "\n",
    "# Plot top 10 colors by sales frequency \n",
    "plt.figure(figsize=(10, 5)) \n",
    "sns.barplot(\n",
    "    y=color_counts.index[:10],\n",
    "    x=color_counts.values[:10],\n",
    "    hue=color_counts.index[:10],   # assign hue\n",
    "    palette=\"viridis\",\n",
    "    dodge=False,                   # avoids double bars\n",
    "    legend=False                   # hide repeated legend\n",
    ")\n",
    "plt.title(\"Top 10 Most Sold Colors\")\n",
    "plt.xlabel(\"Number of Sales\")\n",
    "plt.ylabel(\"Color\") \n",
    "plt.tight_layout()\n",
    "plt.show() "
   ]
  },
  {
   "cell_type": "code",
   "execution_count": 147,
   "id": "e429cb9e",
   "metadata": {},
   "outputs": [
    {
     "data": {
      "image/png": "[encoded data removed]",
      "text/plain": [
       "<Figure size 1200x600 with 1 Axes>"
      ]
     },
     "metadata": {},
     "output_type": "display_data"
    }
   ],
   "source": [
    "# group data by season and color, sum quantities sold \n",
    "season_color = df.groupby([\"Season\", \"Color\"])[\"Quantity Sold\"].sum().reset_index() \n",
    "\n",
    "# plot grouped bar chart for color demand by season \n",
    "plt.figure(figsize=(12,6))\n",
    "sns.barplot(\n",
    "    x=\"Color\", \n",
    "    y=\"Quantity Sold\", \n",
    "    hue=\"Season\", \n",
    "    data=season_color, \n",
    "    palette=\"Set2\"\n",
    ")\n",
    "plt.title(\"Color Demand by Season\") \n",
    "plt.xlabel(\"Color\")\n",
    "plt.ylabel(\"Season\") \n",
    "plt.tight_layout() \n",
    "plt.show() "
   ]
  },
  {
   "cell_type": "code",
   "execution_count": 148,
   "id": "e13dde79",
   "metadata": {},
   "outputs": [
    {
     "data": {
      "image/png": "[encoded data removed]",
      "text/plain": [
       "<Figure size 1500x500 with 1 Axes>"
      ]
     },
     "metadata": {},
     "output_type": "display_data"
    }
   ],
   "source": [
    "# analyize sales trend by product type \n",
    "product_sales = df.groupby(\"Product Type\")[\"Quantity Sold\"].sum().sort_values(ascending=False)\n",
    "\n",
    "# plot horizontal bar chart of product sales \n",
    "plt.figure(figsize=(15, 5))\n",
    "sns.barplot(\n",
    "    y=product_sales.values, \n",
    "    x=product_sales.index, \n",
    "    palette=\"mako\",\n",
    "    hue=product_sales.index,  # assign hue\n",
    ")\n",
    "plt.title(\"Total Quantity Sold by Product Type\")\n",
    "plt.xlabel(\"Total Units Sold\")\n",
    "plt.ylabel(\"Product Type\")\n",
    "plt.tight_layout()\n",
    "plt.show() "
   ]
  },
  {
   "cell_type": "code",
   "execution_count": 149,
   "id": "3ee70347",
   "metadata": {},
   "outputs": [
    {
     "data": {
      "text/html": [
       "<div>\n",
       "<style scoped>\n",
       "    .dataframe tbody tr th:only-of-type {\n",
       "        vertical-align: middle;\n",
       "    }\n",
       "\n",
       "    .dataframe tbody tr th {\n",
       "        vertical-align: top;\n",
       "    }\n",
       "\n",
       "    .dataframe thead th {\n",
       "        text-align: right;\n",
       "    }\n",
       "</style>\n",
       "<table border=\"1\" class=\"dataframe\">\n",
       "  <thead>\n",
       "    <tr style=\"text-align: right;\">\n",
       "      <th></th>\n",
       "      <th>Date</th>\n",
       "      <th>Product Type</th>\n",
       "      <th>Color</th>\n",
       "      <th>Quantity Sold</th>\n",
       "      <th>Season</th>\n",
       "    </tr>\n",
       "  </thead>\n",
       "  <tbody>\n",
       "    <tr>\n",
       "      <th>0</th>\n",
       "      <td>2023-01-15</td>\n",
       "      <td>6</td>\n",
       "      <td>4</td>\n",
       "      <td>120</td>\n",
       "      <td>3</td>\n",
       "    </tr>\n",
       "    <tr>\n",
       "      <th>1</th>\n",
       "      <td>2023-02-10</td>\n",
       "      <td>0</td>\n",
       "      <td>5</td>\n",
       "      <td>95</td>\n",
       "      <td>3</td>\n",
       "    </tr>\n",
       "    <tr>\n",
       "      <th>2</th>\n",
       "      <td>2023-03-12</td>\n",
       "      <td>5</td>\n",
       "      <td>3</td>\n",
       "      <td>40</td>\n",
       "      <td>1</td>\n",
       "    </tr>\n",
       "    <tr>\n",
       "      <th>3</th>\n",
       "      <td>2023-04-20</td>\n",
       "      <td>8</td>\n",
       "      <td>6</td>\n",
       "      <td>60</td>\n",
       "      <td>1</td>\n",
       "    </tr>\n",
       "    <tr>\n",
       "      <th>4</th>\n",
       "      <td>2023-05-18</td>\n",
       "      <td>4</td>\n",
       "      <td>2</td>\n",
       "      <td>100</td>\n",
       "      <td>2</td>\n",
       "    </tr>\n",
       "  </tbody>\n",
       "</table>\n",
       "</div>"
      ],
      "text/plain": [
       "        Date  Product Type  Color  Quantity Sold  Season\n",
       "0 2023-01-15             6      4            120       3\n",
       "1 2023-02-10             0      5             95       3\n",
       "2 2023-03-12             5      3             40       1\n",
       "3 2023-04-20             8      6             60       1\n",
       "4 2023-05-18             4      2            100       2"
      ]
     },
     "execution_count": 149,
     "metadata": {},
     "output_type": "execute_result"
    }
   ],
   "source": [
    "# Prepare Data (Encoding Categorical Variables) \n",
    "\n",
    "# import LabelEncoder from sklearn to convert text label to numerical values \n",
    "# Machine Learning models require numerical input... \n",
    "from sklearn.preprocessing import LabelEncoder \n",
    "\n",
    "# create copy of original DataFrame to avoid modifying it \n",
    "df_encoded = df.copy() \n",
    "\n",
    "# create separate label encoders for each categorical column \n",
    "le_color = LabelEncoder() \n",
    "le_product = LabelEncoder() \n",
    "le_season = LabelEncoder() \n",
    "\n",
    "# apply encoding to each categorical column \n",
    "df_encoded[\"Color\"] = le_color.fit_transform(df_encoded[\"Color\"])\n",
    "df_encoded[\"Product Type\"] = le_product.fit_transform(df_encoded[\"Product Type\"]) \n",
    "df_encoded[\"Season\"] = le_season.fit_transform(df_encoded[\"Season\"]) \n",
    "\n",
    "# view first 5 rows of encoded DataFrame \n",
    "df_encoded.head() "
   ]
  },
  {
   "cell_type": "code",
   "execution_count": 150,
   "id": "59037c36",
   "metadata": {},
   "outputs": [
    {
     "name": "stdout",
     "output_type": "stream",
     "text": [
      "Training set size: 8\n",
      "Test set size: 2\n"
     ]
    }
   ],
   "source": [
    "# Split data for training and testing \n",
    "\n",
    "# import train_test_split from sklearn to split data into training and testing sets\n",
    "# purpose: train the model on one set and test it to see how well it performs \n",
    "from sklearn.model_selection import train_test_split \n",
    "\n",
    "# define input features (X) and target variable (y) \n",
    "# X: input data: what model uses to make predictions \n",
    "# y: target data: what model tries to predict -> quantity sold \n",
    "X = df_encoded[[\"Color\", \"Product Type\", \"Season\"]]\n",
    "y = df_encoded[\"Quantity Sold\"] \n",
    "\n",
    "# split data into training and testing sets (80% train, 20% test)\n",
    "# 80/20 split is popular to train model and learn patters, as it's enough data to test and get reliable performance metrics and it's simple to understand and consistent across different datasets\n",
    "# test_size=0.2 means 20% of data will be used for testing\n",
    "# random_state=42 ensures reproducibility of results\n",
    "X_train, X_test, y_train, y_test = train_test_split(\n",
    "  X, y, test_size=0.2, random_state=42\n",
    ")\n",
    "\n",
    "# check if split worked correctly \n",
    "# for 10 rows of CSV \n",
    "print(\"Training set size:\", len(X_train)) # 8\n",
    "print(\"Test set size:\", len(X_test)) # 2 "
   ]
  },
  {
   "cell_type": "code",
   "execution_count": 152,
   "id": "46e613ea",
   "metadata": {},
   "outputs": [
    {
     "name": "stdout",
     "output_type": "stream",
     "text": [
      "R² Score: -16.936444444444437\n",
      "RMSE: 31.763579773067132\n"
     ]
    },
    {
     "data": {
      "text/html": [
       "<div>\n",
       "<style scoped>\n",
       "    .dataframe tbody tr th:only-of-type {\n",
       "        vertical-align: middle;\n",
       "    }\n",
       "\n",
       "    .dataframe tbody tr th {\n",
       "        vertical-align: top;\n",
       "    }\n",
       "\n",
       "    .dataframe thead th {\n",
       "        text-align: right;\n",
       "    }\n",
       "</style>\n",
       "<table border=\"1\" class=\"dataframe\">\n",
       "  <thead>\n",
       "    <tr style=\"text-align: right;\">\n",
       "      <th></th>\n",
       "      <th>Actual</th>\n",
       "      <th>Predicted</th>\n",
       "    </tr>\n",
       "  </thead>\n",
       "  <tbody>\n",
       "    <tr>\n",
       "      <th>0</th>\n",
       "      <td>110</td>\n",
       "      <td>99.6</td>\n",
       "    </tr>\n",
       "    <tr>\n",
       "      <th>1</th>\n",
       "      <td>95</td>\n",
       "      <td>138.7</td>\n",
       "    </tr>\n",
       "  </tbody>\n",
       "</table>\n",
       "</div>"
      ],
      "text/plain": [
       "   Actual  Predicted\n",
       "0     110       99.6\n",
       "1      95      138.7"
      ]
     },
     "execution_count": 152,
     "metadata": {},
     "output_type": "execute_result"
    }
   ],
   "source": [
    "# Train a Prediction Model (Improved with Random Forest)\n",
    "\n",
    "# import model and evaluation metrics\n",
    "# better than a single decision tree\n",
    "from sklearn.ensemble import RandomForestRegressor\n",
    "from sklearn.metrics import mean_squared_error, r2_score  # model evaluation tools\n",
    "import numpy as np  # for math operations\n",
    "\n",
    "# create and train the model\n",
    "# multiple trees = better generalization\n",
    "model = RandomForestRegressor(random_state=42)\n",
    "model.fit(X_train, y_train)  # train the model on training data\n",
    "\n",
    "# make predictions on test set\n",
    "y_pred = model.predict(X_test)  # predict quantity sold for test data\n",
    "\n",
    "# evaluate prediction accuracy\n",
    "r2 = r2_score(y_test, y_pred)\n",
    "# safe for all sklearn versions\n",
    "rmse = np.sqrt(mean_squared_error(y_test, y_pred))\n",
    "\n",
    "print(\"R² Score:\", r2)\n",
    "print(\"RMSE:\", rmse)\n",
    "\n",
    "# inspect prediction vs actual values\n",
    "comparison_df = pd.DataFrame({\n",
    "    \"Actual\": y_test.values,\n",
    "    \"Predicted\": y_pred\n",
    "})\n",
    "\n",
    "comparison_df"
   ]
  },
  {
   "cell_type": "code",
   "execution_count": null,
   "id": "06fdfe15",
   "metadata": {},
   "outputs": [],
   "source": [
    "# Make Custom Prediction \n",
    "\n",
    "# define sample input values for prediction\n",
    "sample_color = \"Soft Pink\"\n",
    "sample_product = \"bb rib 30/1\"\n",
    "sample_season = \"Fall\" \n",
    "\n",
    "# transform input values using label encoders \n",
    "color_encoded = le_color.transform([sample_color])[0]\n",
    "product_encoded = le_product.transform([sample_product])[0]\n",
    "season_encoded = le_season.transform([sample_season])[0] \n",
    "\n",
    "# format values into a list of features for prediction \n",
    "sample_input = [[color_encoded, product_encoded, season_encoded]]\n",
    "\n",
    "# predict quantity sold for given input \n",
    "predicted_quantity = model.predict(sample_input)\n",
    "\n",
    "# show results \n",
    "print(f\"Predicted Quantity Sold for {sample_color}, {sample_product} in {sample_season}: {int(predicted_quantity[0])}\")"
   ]
  }
 ],
 "metadata": {
  "language_info": {
   "name": "python"
  }
 },
 "nbformat": 4,
 "nbformat_minor": 5
}
